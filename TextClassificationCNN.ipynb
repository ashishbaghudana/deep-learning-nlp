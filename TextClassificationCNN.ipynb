{
  "nbformat": 4,
  "nbformat_minor": 0,
  "metadata": {
    "accelerator": "GPU",
    "colab": {
      "name": "TextClassificationCNN.ipynb",
      "version": "0.3.2",
      "provenance": []
    },
    "kernelspec": {
      "name": "python3",
      "display_name": "Python 3"
    },
    "language_info": {
      "codemirror_mode": {
        "name": "ipython",
        "version": 3
      },
      "file_extension": ".py",
      "mimetype": "text/x-python",
      "name": "python",
      "nbconvert_exporter": "python",
      "pygments_lexer": "ipython3",
      "version": "3.7.3"
    }
  },
  "cells": [
    {
      "cell_type": "markdown",
      "metadata": {
        "colab_type": "text",
        "id": "DopDioiH-H8e"
      },
      "source": [
        "# Convolutional Neural Networks for Sentence Classification\n",
        "\n",
        "This Jupyter notebook attempts to replicate results from the paper _Kim, Yoon. \"Convolutional neural networks for sentence classification.\" arXiv preprint arXiv:1408.5882 (2014)._. It uses convolutional neural networks to classify sentences.\n",
        "\n",
        "The implementation is done using PyTorch 1.1 on Python 3.7. I will try to restrict using other packages to keep the implementation barebones. The following packages are needed as part of the pipeline.\n",
        "\n",
        "* `torch`\n",
        "* `torchtext`\n",
        "* `numpy`\n",
        "* `spacy`\n",
        "* `mlogger`\n",
        "* `fastprogress`\n",
        "* `livelossplot`"
      ]
    },
    {
      "cell_type": "code",
      "metadata": {
        "colab_type": "code",
        "id": "0qmz4AyW-Ka9",
        "colab": {}
      },
      "source": [
        "# Install necessary packages for Google Colab\n",
        "%%capture magic\n",
        "!pip install torchtext mlogger fastprogress livelossplot spacy\n",
        "!python -m spacy download en"
      ],
      "execution_count": 0,
      "outputs": []
    },
    {
      "cell_type": "code",
      "metadata": {
        "colab_type": "code",
        "id": "DmC1rkiF-H8f",
        "colab": {}
      },
      "source": [
        "import torch\n",
        "import torch.nn as nn\n",
        "from torch.autograd import Variable\n",
        "from torch.nn import functional as F\n",
        "\n",
        "import torchtext\n",
        "import mlogger\n",
        "from fastprogress import master_bar, progress_bar\n",
        "from pathlib import Path\n",
        "from livelossplot import PlotLosses\n",
        "import numpy as np"
      ],
      "execution_count": 0,
      "outputs": []
    },
    {
      "cell_type": "markdown",
      "metadata": {
        "colab_type": "text",
        "id": "L6XcdXG6-H8i"
      },
      "source": [
        "### Model Definition\n",
        "\n",
        "The TextCNN model consists of a convolutional neural network with three varying kernel sizes. The kernel is non-square of dimensions (`kernel_height`, `embedding_dim`), where `embedding_dim` is the size of the word vectors. Each convolutional layer uses a ReLu activation layer followed by maxpooling along the primary dimension. The maxpooled tensors are then concatenated and fed through a linear layer."
      ]
    },
    {
      "cell_type": "code",
      "metadata": {
        "colab_type": "code",
        "id": "ftM2LtVs-H8j",
        "colab": {}
      },
      "source": [
        "class TextCNN(nn.Module):\n",
        "    \"\"\"Implements text classification using CNNs\n",
        "    \n",
        "    A text classification model in PyTorch using Convolutional Neural Networks.\n",
        "    The model consists of three kernels of size (kernel_height, embedding_dim)\n",
        "    where the kernel heights are generally [3, 4, 5].\n",
        "    \n",
        "    Arguments\n",
        "        config (dict): a configuration dictionary for model parameters\n",
        "            (default None)\n",
        "            \n",
        "            The configuration object expects a minimum of the following\n",
        "            arguments\n",
        "            \n",
        "                vocab_size: number of words in vocabulary\n",
        "                embeddimg_dim: size of word vectors\n",
        "                weights: word vector embeddings\n",
        "                in_channels: number of channels in image (for text, set as 1)\n",
        "                out_channels: number of feature maps to create (a sensible\n",
        "                    default is 128)\n",
        "                kernel_sizes: default kernel sizes should [3, 4, 5]\n",
        "                keep_prob: keep probability for the dropout layer\n",
        "                output_size: number of output_classes\n",
        "    \"\"\"\n",
        "    \n",
        "    def __init__(self, config):\n",
        "        \n",
        "        super(TextCNN, self).__init__()\n",
        "        \n",
        "        # Parameters for Embedding Layer\n",
        "        self.vocab_size = config['vocab_size']\n",
        "        self.embedding_dim = config['embedding_dim']\n",
        "        self.weights = config['weights']\n",
        "        \n",
        "        # Parameters for Convolutional Layers\n",
        "        self.in_channels = config['in_channels']\n",
        "        self.out_channels = config['out_channels']\n",
        "        self.kernel_sizes = config['kernel_sizes']\n",
        "        \n",
        "        # Parameters for Dropout Layer\n",
        "        self.keep_prob = config['keep_prob']\n",
        "        \n",
        "        # Parameters for Output Layer\n",
        "        self.output_size = config['output_size']\n",
        "        \n",
        "        # Layer Definitions\n",
        "        self.embed = nn.Embedding(self.vocab_size, self.embedding_dim)\n",
        "        self.embed.weights = nn.Parameter(self.weights, requires_grad=False)\n",
        "        self.conv1 = nn.Conv2d(self.in_channels, self.out_channels, \n",
        "                               (self.kernel_sizes[0], self.embedding_dim))\n",
        "        self.conv2 = nn.Conv2d(self.in_channels, self.out_channels, \n",
        "                               (self.kernel_sizes[1], self.embedding_dim))\n",
        "        self.conv3 = nn.Conv2d(self.in_channels, self.out_channels, \n",
        "                               (self.kernel_sizes[2], self.embedding_dim))\n",
        "        self.dropout = nn.Dropout(self.keep_prob)\n",
        "        self.linear = nn.Linear(len(self.kernel_sizes) * self.out_channels, \n",
        "                                self.output_size)\n",
        "        self.softmax = nn.LogSoftmax(dim=1)\n",
        "    \n",
        "    def forward(self, x):\n",
        "        x = self.embed(x) # x is of shape (batch_size, num_seq, embedding_dim)\n",
        "        x = x.unsqueeze(1) # x is of shape (batch_size, in_channel, num_seq, embedding_dim)\n",
        "        \n",
        "        # conv will create tensor of size (batch_size, out_channels, num_seq-2, 1)\n",
        "        activation1 = F.relu(self.conv1(x).squeeze(3))\n",
        "        activation2 = F.relu(self.conv2(x).squeeze(3))\n",
        "        activation3 = F.relu(self.conv3(x).squeeze(3))\n",
        "        \n",
        "        out1 = F.max_pool1d(activation1, activation1.size()[2])\n",
        "        out2 = F.max_pool1d(activation1, activation2.size()[2])\n",
        "        out3 = F.max_pool1d(activation1, activation3.size()[2])\n",
        "        \n",
        "        out = torch.cat((out1, out2, out3), 1).squeeze(2) # out is of size (batch_size, num_kernels*output_channels)\n",
        "        out = self.linear(out)\n",
        "        \n",
        "        logits = self.dropout(out)\n",
        "        label = self.softmax(logits)\n",
        "        \n",
        "        return (label, logits)"
      ],
      "execution_count": 0,
      "outputs": []
    },
    {
      "cell_type": "code",
      "metadata": {
        "colab_type": "code",
        "id": "bDxW16eK-H8u",
        "colab": {}
      },
      "source": [
        "def save_model(config, model, optimizer, loss, epoch, is_best, save_dir):\n",
        "    \"\"\"Save model to disk\n",
        "    \n",
        "    Arguments\n",
        "        config: configuration dictionary of model parameters\n",
        "        model: the model instance that is being saved\n",
        "        optimizer: the optimizer instance\n",
        "        loss: the validation loss\n",
        "        epoch: epoch number\n",
        "        is_best: is it the best epoch so far\n",
        "        save_dir: path to save directory\n",
        "    \"\"\"\n",
        "    path = Path(save_dir)\n",
        "    \n",
        "    checkpoint = path / f\"model_{epoch}.pt\"\n",
        "    latest = path / \"model_latest.pt\"\n",
        "    best = path / \"model_best.pt\"\n",
        "    \n",
        "    state_dict = {\n",
        "        'config': config,\n",
        "        'epoch': epoch,\n",
        "        'model_state_dict': model.state_dict(),\n",
        "        'optimizer_state_dict': optimizer.state_dict(),\n",
        "        'loss': loss\n",
        "    }\n",
        "    \n",
        "    torch.save(state_dict, checkpoint)\n",
        "    torch.save(state_dict, latest)\n",
        "    if is_best:\n",
        "        torch.save(state_dict, best)\n",
        "        \n",
        "\n",
        "def load_model(path):\n",
        "    \"\"\"Load model from disk\n",
        "    \n",
        "    Arguments\n",
        "        path: path to the checkpoint file\n",
        "    \"\"\"\n",
        "    \n",
        "    checkpoint = torch.load(path)\n",
        "    \n",
        "    # Get config and instantiate model\n",
        "    config = checkpoint['config']\n",
        "    model = TextCNN(config)\n",
        "    model.load_state_dict(checkpoint['model_state_dict'])\n",
        "    \n",
        "    # Instantiate optimizer\n",
        "    optimizer = torch.optim.Adam(filter(lambda p: p.requires_grad, \n",
        "                                        model.parameters()))\n",
        "    optimizer.load_state_dict(checkpoint['optimizer_state_dict'])\n",
        "    \n",
        "    # Epoch\n",
        "    epoch = checkpoint['epoch']\n",
        "    \n",
        "    return config, model, optimizer, epoch\n",
        "\n",
        "\n",
        "def load_best_model(save_dir):\n",
        "    \"\"\"Load best model from the save directory\n",
        "    \n",
        "    Arguments\n",
        "        save_dir: path to the save directory\n",
        "    \"\"\"\n",
        "    \n",
        "    best_model_path = Path(save_dir) / \"model_best.pt\"\n",
        "    return load_model(best_model_path)"
      ],
      "execution_count": 0,
      "outputs": []
    },
    {
      "cell_type": "markdown",
      "metadata": {
        "colab_type": "text",
        "id": "rqOJN9el-H8k"
      },
      "source": [
        "### Data Loading\n",
        "\n",
        "PyTorch supplies a utility library for data loading specific to NLP -- `torchtext`. I want to use the IMDb dataset to tag reviews as positive or negative. \n",
        "\n",
        "The first step to create a data loading pipeline is to define the fields in the dataset. In our case, we only have two fields -- text and label. The text must subsequently be lower-cased, tokenized, and transformed to respective indices. Futhermore, we want to limit the length of each text field to a fixed number of words. I set this to 100 words."
      ]
    },
    {
      "cell_type": "code",
      "metadata": {
        "colab_type": "code",
        "id": "2IF6IY_k-H8l",
        "outputId": "ce25c4db-5eae-4007-b9f5-15605df27648",
        "colab": {
          "base_uri": "https://localhost:8080/",
          "height": 85
        }
      },
      "source": [
        "# Define fields from TorchText\n",
        "TEXT = torchtext.data.Field(sequential=True, tokenize='spacy', \n",
        "                            include_lengths=True, fix_length=200, \n",
        "                            batch_first=True)\n",
        "LABEL = torchtext.data.LabelField()\n",
        "\n",
        "# Load dataset (IMDB)\n",
        "_train_data, _test_data = torchtext.datasets.IMDB.splits(TEXT, LABEL)\n",
        "\n",
        "# Build Vectors\n",
        "vectors = torchtext.vocab.GloVe(name='6B')\n",
        "TEXT.build_vocab(_train_data, vectors=vectors)\n",
        "LABEL.build_vocab(_train_data)\n",
        "word_embeddings = TEXT.vocab.vectors"
      ],
      "execution_count": 5,
      "outputs": [
        {
          "output_type": "stream",
          "text": [
            "\raclImdb_v1.tar.gz:   0%|          | 0.00/84.1M [00:00<?, ?B/s]"
          ],
          "name": "stderr"
        },
        {
          "output_type": "stream",
          "text": [
            "downloading aclImdb_v1.tar.gz\n"
          ],
          "name": "stdout"
        },
        {
          "output_type": "stream",
          "text": [
            "aclImdb_v1.tar.gz: 100%|██████████| 84.1M/84.1M [00:02<00:00, 39.8MB/s]\n",
            ".vector_cache/glove.6B.zip: 862MB [00:13, 64.7MB/s]                           \n",
            "100%|█████████▉| 399068/400000 [00:38<00:00, 10655.53it/s]"
          ],
          "name": "stderr"
        }
      ]
    },
    {
      "cell_type": "markdown",
      "metadata": {
        "id": "OCXfDTdTteBP",
        "colab_type": "text"
      },
      "source": [
        "Let's check the size of the vocabulary and the number of labels, just to be sure."
      ]
    },
    {
      "cell_type": "code",
      "metadata": {
        "colab_type": "code",
        "id": "J303oHXQ-H8n",
        "outputId": "1b84717f-fa83-4054-8920-7d93d1ff7c92",
        "colab": {
          "base_uri": "https://localhost:8080/",
          "height": 68
        }
      },
      "source": [
        "print (\"Length of Text Vocabulary: \" + str(len(TEXT.vocab)))\n",
        "print (\"Vector size of Text Vocabulary: \", TEXT.vocab.vectors.size())\n",
        "print (\"Label Length: \" + str(len(LABEL.vocab)))"
      ],
      "execution_count": 6,
      "outputs": [
        {
          "output_type": "stream",
          "text": [
            "Length of Text Vocabulary: 121881\n",
            "Vector size of Text Vocabulary:  torch.Size([121881, 300])\n",
            "Label Length: 2\n"
          ],
          "name": "stdout"
        }
      ]
    },
    {
      "cell_type": "markdown",
      "metadata": {
        "id": "rTdRS9c5teBS",
        "colab_type": "text"
      },
      "source": [
        "### Bucketing Data into Train, Test, and Validation\n",
        "\n",
        "An important step in any machine learning is to split the dataset into train, test, and validation. The dataset we loaded already came split into train and test. We only want to split the training set into train and validation.\n",
        "\n",
        "Finally, we create `BucketIterator` objects that yield batches for train, test, and validation. Here, we set the batch size to 32. If your GPU is large enough, you can increast the batch size to 64 or even 128."
      ]
    },
    {
      "cell_type": "code",
      "metadata": {
        "colab_type": "code",
        "id": "kTTlOMSg-H8p",
        "colab": {}
      },
      "source": [
        "train_data = _train_data\n",
        "test_data = _test_data\n",
        "\n",
        "# Split train data into train and validation\n",
        "train_data, valid_data = train_data.split(split_ratio=0.7)\n",
        "train_iter, valid_iter, test_iter = torchtext.data.BucketIterator.splits((train_data, valid_data, test_data), \n",
        "                                                                         batch_size=32, shuffle=True, repeat=False)\n",
        "vocab_size = len(TEXT.vocab)"
      ],
      "execution_count": 0,
      "outputs": []
    },
    {
      "cell_type": "markdown",
      "metadata": {
        "colab_type": "text",
        "id": "_Cfw4Jlo-H8r"
      },
      "source": [
        "### Model Training\n",
        "\n",
        "The first step of training is to define three things:\n",
        "* the model\n",
        "* the loss function\n",
        "* the optimizer\n",
        "\n",
        "The model we create is an instantiation of the `TextCNN` model from the configuration object. The loss function (AKA criterion) is set up as an Cross Entropy Loss, and the optimizer is the Adam Optimizer. Note that we use a lambda condition in the optimizer to only filter out model paramters that are differentiable."
      ]
    },
    {
      "cell_type": "code",
      "metadata": {
        "colab_type": "code",
        "id": "AtgzSUgM-H8s",
        "colab": {}
      },
      "source": [
        "# Configuration dictionary\n",
        "config = {\n",
        "    'vocab_size': vocab_size,\n",
        "    'embedding_dim': vectors.dim,\n",
        "    'weights': word_embeddings,\n",
        "    'in_channels': 1,\n",
        "    'out_channels': 128,\n",
        "    'kernel_sizes': [3, 4, 5],\n",
        "    'keep_prob': 0.7,\n",
        "    'output_size': len(LABEL.vocab)\n",
        "}\n",
        "\n",
        "# Define model\n",
        "model = TextCNN(config)\n",
        "\n",
        "# Define criterion\n",
        "criterion = nn.CrossEntropyLoss()\n",
        "\n",
        "# Define optimizer\n",
        "optimizer = torch.optim.Adam(filter(lambda p: p.requires_grad, model.parameters()))"
      ],
      "execution_count": 0,
      "outputs": []
    },
    {
      "cell_type": "markdown",
      "metadata": {
        "id": "w2tDu-HateBY",
        "colab_type": "text"
      },
      "source": [
        "#### Train One Epoch\n",
        "\n",
        "The `train_epoch` snippet trains one epoch of the model"
      ]
    },
    {
      "cell_type": "code",
      "metadata": {
        "colab_type": "code",
        "id": "1r0zgOPq-H8w",
        "colab": {}
      },
      "source": [
        "def train_epoch(model, criterion, optimizer, train_iter, epoch, mb):\n",
        "    \"\"\"Train one epoch\n",
        "    \n",
        "    Arguments\n",
        "        model: instantiation of the model\n",
        "        criterion: loss function\n",
        "        optimizer: instantiation of the optimizer\n",
        "        train_iter: iterator for training dataset\n",
        "        mb: the master progress bar from fastprogress\n",
        "    \"\"\"\n",
        "    # Set model to training mode\n",
        "    model.train()\n",
        "    \n",
        "    # Define metrics\n",
        "    train_accuracy_metric = mlogger.metric.Average()\n",
        "    train_loss_metric = mlogger.metric.Average()\n",
        "    \n",
        "    for batch in progress_bar(train_iter, parent=mb):\n",
        "        mb.child.comment = f'Epoch {epoch+1}'\n",
        "        \n",
        "        # Obtain text and target from batch\n",
        "        text = batch.text[0]\n",
        "        target = batch.label\n",
        "        if torch.cuda.is_available():\n",
        "            text = text.cuda()\n",
        "            target = target.cuda()\n",
        "            \n",
        "        # Reset optimizer\n",
        "        optimizer.zero_grad()\n",
        "        \n",
        "        # Get prediction and loss\n",
        "        prediction, logits = model(text)\n",
        "        loss = criterion(prediction, target)\n",
        "        \n",
        "        # Get accuracy\n",
        "        num_correct = (torch.max(prediction, 1)[1].data == target.data).sum()\n",
        "        accuracy = float(num_correct) / len(batch)\n",
        "        \n",
        "        # Store accuracy and loss\n",
        "        train_loss_metric.update(loss.item())\n",
        "        train_accuracy_metric.update(accuracy)\n",
        "        \n",
        "        # Propagate loss backward\n",
        "        loss.backward()\n",
        "        optimizer.step()\n",
        "        \n",
        "    return train_loss_metric.value, train_accuracy_metric.value"
      ],
      "execution_count": 0,
      "outputs": []
    },
    {
      "cell_type": "markdown",
      "metadata": {
        "id": "mjD_vWfIteBb",
        "colab_type": "text"
      },
      "source": [
        "#### Model Evaluation\n",
        "\n",
        "The `evaluate_model` snippet tests the model on a dataset. This could be the validation dataset or the test dataset."
      ]
    },
    {
      "cell_type": "code",
      "metadata": {
        "id": "ONUDB6K9teBc",
        "colab_type": "code",
        "colab": {}
      },
      "source": [
        "def evaluate_model(model, valid_iter):\n",
        "    \"\"\"Evaluate model\n",
        "    \n",
        "    Arguments\n",
        "        model: instantiation of the model\n",
        "        valid_iter: a iterator for the validation dataset\n",
        "    \"\"\"\n",
        "    # Validation phase\n",
        "    model.eval()\n",
        "    \n",
        "    # Define metrics\n",
        "    valid_accuracy_metric = mlogger.metric.Average()\n",
        "    valid_loss_metric = mlogger.metric.Average()\n",
        "    \n",
        "    # No automatic differentiation\n",
        "    with torch.no_grad():\n",
        "        for batch in valid_iter:\n",
        "            \n",
        "            # Obtain text and target from batch\n",
        "            text = batch.text[0]\n",
        "            target = batch.label\n",
        "            if torch.cuda.is_available():\n",
        "                text = text.cuda()\n",
        "                target = target.cuda()\n",
        "            \n",
        "            # Get prediction and loss\n",
        "            prediction, _ = model(text)\n",
        "            loss = criterion(prediction, target)\n",
        "            \n",
        "            # Get accuracy\n",
        "            num_correct = (torch.max(prediction, 1)[1].data == target.data).sum()\n",
        "            accuracy = float(num_correct) / len(batch)\n",
        "            \n",
        "            # Store validation accuracy and loss\n",
        "            valid_loss_metric.update(loss.item())\n",
        "            valid_accuracy_metric.update(accuracy)\n",
        "    \n",
        "    return valid_loss_metric.value, valid_accuracy_metric.value"
      ],
      "execution_count": 0,
      "outputs": []
    },
    {
      "cell_type": "code",
      "metadata": {
        "id": "BMjiHLT2teBf",
        "colab_type": "code",
        "colab": {}
      },
      "source": [
        "def train_model(model, criterion, optimizer, train_iter, valid_iter, \n",
        "                num_epochs, save_dir, current_epoch=0):\n",
        "    device = torch.device('cuda:0' if torch.cuda.is_available() else 'cpu')\n",
        "    model = model.to(device)\n",
        "\n",
        "    NUM_EPOCHS = current_epoch + num_epochs\n",
        "    SAVE_DIR = Path(save_dir)\n",
        "\n",
        "    MB = master_bar(range(current_epoch, NUM_EPOCHS))\n",
        "    MB.first_bar.comment = 'Training Progress'\n",
        "    liveloss = PlotLosses()\n",
        "\n",
        "    for epoch in MB:\n",
        "\n",
        "        # Set model to training mode\n",
        "        model.train()\n",
        "\n",
        "        # Container for metrics\n",
        "        logs = {}\n",
        "\n",
        "        # Train one epoch\n",
        "        train_loss, train_accuracy = train_epoch(model, criterion, optimizer, \n",
        "                                                 train_iter, epoch, MB)\n",
        "\n",
        "        # Evaluate model on validation set\n",
        "        valid_loss, valid_accuracy = evaluate_model(model, valid_iter)\n",
        "\n",
        "        logs['log loss'] = train_loss\n",
        "        logs['accuracy'] = train_accuracy\n",
        "        logs['val_log loss'] = valid_loss\n",
        "        logs['val_accuracy'] = valid_accuracy\n",
        "        liveloss.update(logs)\n",
        "        liveloss.draw()\n",
        "\n",
        "        # Check if is the best model so far\n",
        "        best_model = np.argmax([log['val_accuracy'] for log in liveloss.logs])\n",
        "        is_best = (best_model == epoch)\n",
        "\n",
        "        # Save model to disk\n",
        "        save_model(config, model, optimizer, valid_loss, epoch+1, is_best, \n",
        "                   SAVE_DIR)\n",
        "        print(f'Best model so far is epoch {best_model+1}')\n",
        "    \n",
        "    _, best_model, _, _ = load_best_model(save_dir)\n",
        "    return model, best_model\n",
        "    "
      ],
      "execution_count": 0,
      "outputs": []
    },
    {
      "cell_type": "markdown",
      "metadata": {
        "id": "HECQgYxcteBf",
        "colab_type": "text"
      },
      "source": [
        "#### Model Training for several epochs\n",
        "\n",
        "Train the model for `NUM_EPOCHS` and save the model at the end of each epoch."
      ]
    },
    {
      "cell_type": "code",
      "metadata": {
        "id": "4GTSfVWqK0ff",
        "colab_type": "code",
        "outputId": "d74aaba6-95d8-4ca4-bf3d-a11c02a2d611",
        "colab": {
          "base_uri": "https://localhost:8080/",
          "height": 462
        }
      },
      "source": [
        "model, best_model = train_model(model, criterion, optimizer, train_iter, \n",
        "                                valid_iter, num_epochs=10, save_dir='.')"
      ],
      "execution_count": 16,
      "outputs": [
        {
          "output_type": "display_data",
          "data": {
            "image/png": "[encoded data removed]",
            "text/plain": [
              "<Figure size 864x576 with 2 Axes>"
            ]
          },
          "metadata": {
            "tags": []
          }
        },
        {
          "output_type": "stream",
          "text": [
            "log loss:\n",
            "training   (min:    0.428, max:    0.705, cur:    0.432)\n",
            "validation (min:    0.409, max:    0.726, cur:    0.653)\n",
            "\n",
            "accuracy:\n",
            "training   (min:    0.582, max:    0.727, cur:    0.727)\n",
            "validation (min:    0.716, max:    0.819, cur:    0.793)\n",
            "Best model so far is epoch 8\n"
          ],
          "name": "stdout"
        },
        {
          "output_type": "display_data",
          "data": {
            "text/html": [
              ""
            ],
            "text/plain": [
              "<IPython.core.display.HTML object>"
            ]
          },
          "metadata": {
            "tags": []
          }
        }
      ]
    },
    {
      "cell_type": "markdown",
      "metadata": {
        "id": "Qye5TnXyGfyn",
        "colab_type": "text"
      },
      "source": [
        "### Model Testing\n",
        "\n",
        "Load in the best model from the training based on the validation accuracy and evaluate on the testing set."
      ]
    },
    {
      "cell_type": "code",
      "metadata": {
        "id": "2bSP1IpxteBh",
        "colab_type": "code",
        "outputId": "d78ffbeb-6b96-45c6-ba15-92fac89d1679",
        "colab": {
          "base_uri": "https://localhost:8080/",
          "height": 51
        }
      },
      "source": [
        "_, best_model, _, _ = load_best_model('.')\n",
        "test_loss, test_accuracy = evaluate_model(model, test_iter)\n",
        "print(f'Test Samples = {32*len(test_iter)}')\n",
        "print(f'Test Accuracy = {test_accuracy:.3f}')"
      ],
      "execution_count": 0,
      "outputs": [
        {
          "output_type": "stream",
          "text": [
            "Test Samples = 25024\n",
            "Test Accuracy = 0.763\n"
          ],
          "name": "stdout"
        }
      ]
    },
    {
      "cell_type": "code",
      "metadata": {
        "id": "k2-itgpYKZEP",
        "colab_type": "code",
        "colab": {}
      },
      "source": [
        ""
      ],
      "execution_count": 0,
      "outputs": []
    }
  ]
}